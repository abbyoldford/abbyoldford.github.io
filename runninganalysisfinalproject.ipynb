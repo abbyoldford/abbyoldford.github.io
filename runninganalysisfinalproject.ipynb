{
 "cells": [
  {
   "cell_type": "code",
   "execution_count": 1,
   "id": "1cce8981",
   "metadata": {
    "_cell_guid": "b1076dfc-b9ad-4769-8c92-a6c4dae69d19",
    "_uuid": "8f2839f25d086af736a60e9eeb907d3b93b6e0e5",
    "execution": {
     "iopub.execute_input": "2023-04-12T07:48:47.090557Z",
     "iopub.status.busy": "2023-04-12T07:48:47.089189Z",
     "iopub.status.idle": "2023-04-12T07:48:47.112019Z",
     "shell.execute_reply": "2023-04-12T07:48:47.110876Z"
    },
    "papermill": {
     "duration": 0.03414,
     "end_time": "2023-04-12T07:48:47.115600",
     "exception": false,
     "start_time": "2023-04-12T07:48:47.081460",
     "status": "completed"
    },
    "tags": []
   },
   "outputs": [
    {
     "name": "stdout",
     "output_type": "stream",
     "text": [
      "/kaggle/input/running-analysis/2022-07-16-142643-Running-Abbys AppleWatch.fit\n"
     ]
    }
   ],
   "source": [
    "# This Python 3 environment comes with many helpful analytics libraries installed\n",
    "# It is defined by the kaggle/python Docker image: https://github.com/kaggle/docker-python\n",
    "# For example, here's several helpful packages to load\n",
    "\n",
    "import numpy as np # linear algebra\n",
    "import pandas as pd # data processing, CSV file I/O (e.g. pd.read_csv)\n",
    "\n",
    "# Input data files are available in the read-only \"../input/\" directory\n",
    "# For example, running this (by clicking run or pressing Shift+Enter) will list all files under the input directory\n",
    "\n",
    "import os\n",
    "for dirname, _, filenames in os.walk('/kaggle/input'):\n",
    "    for filename in filenames:\n",
    "        print(os.path.join(dirname, filename))\n",
    "\n",
    "# You can write up to 20GB to the current directory (/kaggle/working/) that gets preserved as output when you create a version using \"Save & Run All\" \n",
    "# You can also write temporary files to /kaggle/temp/, but they won't be saved outside of the current session"
   ]
  },
  {
   "cell_type": "code",
   "execution_count": 2,
   "id": "a1be6638",
   "metadata": {
    "execution": {
     "iopub.execute_input": "2023-04-12T07:48:47.129351Z",
     "iopub.status.busy": "2023-04-12T07:48:47.127997Z",
     "iopub.status.idle": "2023-04-12T07:48:47.133814Z",
     "shell.execute_reply": "2023-04-12T07:48:47.132920Z"
    },
    "papermill": {
     "duration": 0.015416,
     "end_time": "2023-04-12T07:48:47.136522",
     "exception": false,
     "start_time": "2023-04-12T07:48:47.121106",
     "status": "completed"
    },
    "tags": []
   },
   "outputs": [],
   "source": [
    "import pandas as pd\n",
    "import matplotlib.pyplot as plt"
   ]
  },
  {
   "cell_type": "code",
   "execution_count": 3,
   "id": "f5f23ab6",
   "metadata": {
    "execution": {
     "iopub.execute_input": "2023-04-12T07:48:47.150518Z",
     "iopub.status.busy": "2023-04-12T07:48:47.149577Z",
     "iopub.status.idle": "2023-04-12T07:49:00.049253Z",
     "shell.execute_reply": "2023-04-12T07:49:00.047898Z"
    },
    "papermill": {
     "duration": 12.910155,
     "end_time": "2023-04-12T07:49:00.052055",
     "exception": false,
     "start_time": "2023-04-12T07:48:47.141900",
     "status": "completed"
    },
    "tags": []
   },
   "outputs": [
    {
     "name": "stdout",
     "output_type": "stream",
     "text": [
      "Collecting fitparse\r\n",
      "  Downloading fitparse-1.2.0.tar.gz (65 kB)\r\n",
      "\u001b[2K     \u001b[90m━━━━━━━━━━━━━━━━━━━━━━━━━━━━━━━━━━━━━━━━\u001b[0m \u001b[32m65.7/65.7 kB\u001b[0m \u001b[31m3.2 MB/s\u001b[0m eta \u001b[36m0:00:00\u001b[0m\r\n",
      "\u001b[?25h  Preparing metadata (setup.py) ... \u001b[?25l-\b \bdone\r\n",
      "\u001b[?25hBuilding wheels for collected packages: fitparse\r\n",
      "  Building wheel for fitparse (setup.py) ... \u001b[?25l-\b \b\\\b \bdone\r\n",
      "\u001b[?25h  Created wheel for fitparse: filename=fitparse-1.2.0-py3-none-any.whl size=68229 sha256=db8920042b0c564526904700123117c3033784c0299450704191d60afb9cbba5\r\n",
      "  Stored in directory: /root/.cache/pip/wheels/23/12/0c/0e80d1da7011f52f94c926a9b72261ef5f0ba38cc60d50cf39\r\n",
      "Successfully built fitparse\r\n",
      "Installing collected packages: fitparse\r\n",
      "Successfully installed fitparse-1.2.0\r\n",
      "\u001b[33mWARNING: Running pip as the 'root' user can result in broken permissions and conflicting behaviour with the system package manager. It is recommended to use a virtual environment instead: https://pip.pypa.io/warnings/venv\u001b[0m\u001b[33m\r\n",
      "\u001b[0m"
     ]
    }
   ],
   "source": [
    "!pip install fitparse"
   ]
  },
  {
   "cell_type": "code",
   "execution_count": 4,
   "id": "a0c42057",
   "metadata": {
    "execution": {
     "iopub.execute_input": "2023-04-12T07:49:00.065730Z",
     "iopub.status.busy": "2023-04-12T07:49:00.065275Z",
     "iopub.status.idle": "2023-04-12T07:49:00.085306Z",
     "shell.execute_reply": "2023-04-12T07:49:00.083554Z"
    },
    "papermill": {
     "duration": 0.030672,
     "end_time": "2023-04-12T07:49:00.088325",
     "exception": false,
     "start_time": "2023-04-12T07:49:00.057653",
     "status": "completed"
    },
    "tags": []
   },
   "outputs": [],
   "source": [
    "from fitparse import FitFile\n",
    "import matplotlib.pyplot as plt"
   ]
  },
  {
   "cell_type": "code",
   "execution_count": 5,
   "id": "30ed907d",
   "metadata": {
    "execution": {
     "iopub.execute_input": "2023-04-12T07:49:00.101112Z",
     "iopub.status.busy": "2023-04-12T07:49:00.100663Z",
     "iopub.status.idle": "2023-04-12T07:49:00.117232Z",
     "shell.execute_reply": "2023-04-12T07:49:00.115558Z"
    },
    "papermill": {
     "duration": 0.026657,
     "end_time": "2023-04-12T07:49:00.120230",
     "exception": false,
     "start_time": "2023-04-12T07:49:00.093573",
     "status": "completed"
    },
    "tags": []
   },
   "outputs": [],
   "source": [
    "fitfile = FitFile('/kaggle/input/running-analysis/2022-07-16-142643-Running-Abbys AppleWatch.fit')"
   ]
  },
  {
   "cell_type": "code",
   "execution_count": 6,
   "id": "e63dca4a",
   "metadata": {
    "execution": {
     "iopub.execute_input": "2023-04-12T07:49:00.133227Z",
     "iopub.status.busy": "2023-04-12T07:49:00.132799Z",
     "iopub.status.idle": "2023-04-12T07:49:01.169705Z",
     "shell.execute_reply": "2023-04-12T07:49:01.167838Z"
    },
    "papermill": {
     "duration": 1.047112,
     "end_time": "2023-04-12T07:49:01.172781",
     "exception": false,
     "start_time": "2023-04-12T07:49:00.125669",
     "status": "completed"
    },
    "tags": []
   },
   "outputs": [],
   "source": [
    "while True:\n",
    "    try:\n",
    "        fitfile.messages\n",
    "        break\n",
    "    except KeyError:\n",
    "        continue\n",
    "workout = []\n",
    "for record in fitfile.get_messages('record'):\n",
    "    r = {}\n",
    "    for record_data in record:\n",
    "        r[record_data.name] = record_data.value\n",
    "    workout.append(r)\n",
    "df = pd.DataFrame(workout)\n"
   ]
  },
  {
   "cell_type": "code",
   "execution_count": 7,
   "id": "f8894488",
   "metadata": {
    "execution": {
     "iopub.execute_input": "2023-04-12T07:49:01.186350Z",
     "iopub.status.busy": "2023-04-12T07:49:01.185948Z",
     "iopub.status.idle": "2023-04-12T07:49:01.227517Z",
     "shell.execute_reply": "2023-04-12T07:49:01.225191Z"
    },
    "papermill": {
     "duration": 0.052105,
     "end_time": "2023-04-12T07:49:01.230437",
     "exception": false,
     "start_time": "2023-04-12T07:49:01.178332",
     "status": "completed"
    },
    "tags": []
   },
   "outputs": [
    {
     "data": {
      "text/html": [
       "<div>\n",
       "<style scoped>\n",
       "    .dataframe tbody tr th:only-of-type {\n",
       "        vertical-align: middle;\n",
       "    }\n",
       "\n",
       "    .dataframe tbody tr th {\n",
       "        vertical-align: top;\n",
       "    }\n",
       "\n",
       "    .dataframe thead th {\n",
       "        text-align: right;\n",
       "    }\n",
       "</style>\n",
       "<table border=\"1\" class=\"dataframe\">\n",
       "  <thead>\n",
       "    <tr style=\"text-align: right;\">\n",
       "      <th></th>\n",
       "      <th>distance</th>\n",
       "      <th>heart_rate</th>\n",
       "      <th>timestamp</th>\n",
       "      <th>altitude</th>\n",
       "      <th>cadence</th>\n",
       "      <th>enhanced_altitude</th>\n",
       "      <th>enhanced_speed</th>\n",
       "      <th>fractional_cadence</th>\n",
       "      <th>gps_accuracy</th>\n",
       "      <th>position_lat</th>\n",
       "      <th>position_long</th>\n",
       "      <th>speed</th>\n",
       "      <th>temperature</th>\n",
       "    </tr>\n",
       "  </thead>\n",
       "  <tbody>\n",
       "    <tr>\n",
       "      <th>3504</th>\n",
       "      <td>8003.16</td>\n",
       "      <td>188.0</td>\n",
       "      <td>2022-07-16 21:25:05</td>\n",
       "      <td>1061.6</td>\n",
       "      <td>30.0</td>\n",
       "      <td>1061.6</td>\n",
       "      <td>2.681</td>\n",
       "      <td>0.429688</td>\n",
       "      <td>2.0</td>\n",
       "      <td>609215130.0</td>\n",
       "      <td>-1.361890e+09</td>\n",
       "      <td>2.681</td>\n",
       "      <td>28.0</td>\n",
       "    </tr>\n",
       "    <tr>\n",
       "      <th>3505</th>\n",
       "      <td>8005.80</td>\n",
       "      <td>188.0</td>\n",
       "      <td>2022-07-16 21:25:06</td>\n",
       "      <td>1061.6</td>\n",
       "      <td>30.0</td>\n",
       "      <td>1061.6</td>\n",
       "      <td>2.668</td>\n",
       "      <td>0.429688</td>\n",
       "      <td>2.0</td>\n",
       "      <td>609215001.0</td>\n",
       "      <td>-1.361890e+09</td>\n",
       "      <td>2.668</td>\n",
       "      <td>28.0</td>\n",
       "    </tr>\n",
       "    <tr>\n",
       "      <th>3506</th>\n",
       "      <td>8008.40</td>\n",
       "      <td>188.0</td>\n",
       "      <td>2022-07-16 21:25:07</td>\n",
       "      <td>1061.6</td>\n",
       "      <td>30.0</td>\n",
       "      <td>1061.6</td>\n",
       "      <td>2.573</td>\n",
       "      <td>0.429688</td>\n",
       "      <td>2.0</td>\n",
       "      <td>609214862.0</td>\n",
       "      <td>-1.361889e+09</td>\n",
       "      <td>2.573</td>\n",
       "      <td>28.0</td>\n",
       "    </tr>\n",
       "    <tr>\n",
       "      <th>3507</th>\n",
       "      <td>8010.88</td>\n",
       "      <td>188.0</td>\n",
       "      <td>2022-07-16 21:25:08</td>\n",
       "      <td>1061.6</td>\n",
       "      <td>30.0</td>\n",
       "      <td>1061.6</td>\n",
       "      <td>2.433</td>\n",
       "      <td>0.429688</td>\n",
       "      <td>2.0</td>\n",
       "      <td>609214730.0</td>\n",
       "      <td>-1.361889e+09</td>\n",
       "      <td>2.433</td>\n",
       "      <td>28.0</td>\n",
       "    </tr>\n",
       "    <tr>\n",
       "      <th>3508</th>\n",
       "      <td>8013.20</td>\n",
       "      <td>188.0</td>\n",
       "      <td>2022-07-16 21:25:09</td>\n",
       "      <td>1061.6</td>\n",
       "      <td>30.0</td>\n",
       "      <td>1061.6</td>\n",
       "      <td>2.261</td>\n",
       "      <td>0.429688</td>\n",
       "      <td>2.0</td>\n",
       "      <td>609214610.0</td>\n",
       "      <td>-1.361888e+09</td>\n",
       "      <td>2.261</td>\n",
       "      <td>28.0</td>\n",
       "    </tr>\n",
       "  </tbody>\n",
       "</table>\n",
       "</div>"
      ],
      "text/plain": [
       "      distance  heart_rate           timestamp  altitude  cadence  \\\n",
       "3504   8003.16       188.0 2022-07-16 21:25:05    1061.6     30.0   \n",
       "3505   8005.80       188.0 2022-07-16 21:25:06    1061.6     30.0   \n",
       "3506   8008.40       188.0 2022-07-16 21:25:07    1061.6     30.0   \n",
       "3507   8010.88       188.0 2022-07-16 21:25:08    1061.6     30.0   \n",
       "3508   8013.20       188.0 2022-07-16 21:25:09    1061.6     30.0   \n",
       "\n",
       "      enhanced_altitude  enhanced_speed  fractional_cadence  gps_accuracy  \\\n",
       "3504             1061.6           2.681            0.429688           2.0   \n",
       "3505             1061.6           2.668            0.429688           2.0   \n",
       "3506             1061.6           2.573            0.429688           2.0   \n",
       "3507             1061.6           2.433            0.429688           2.0   \n",
       "3508             1061.6           2.261            0.429688           2.0   \n",
       "\n",
       "      position_lat  position_long  speed  temperature  \n",
       "3504   609215130.0  -1.361890e+09  2.681         28.0  \n",
       "3505   609215001.0  -1.361890e+09  2.668         28.0  \n",
       "3506   609214862.0  -1.361889e+09  2.573         28.0  \n",
       "3507   609214730.0  -1.361889e+09  2.433         28.0  \n",
       "3508   609214610.0  -1.361888e+09  2.261         28.0  "
      ]
     },
     "execution_count": 7,
     "metadata": {},
     "output_type": "execute_result"
    }
   ],
   "source": [
    "df.tail()"
   ]
  },
  {
   "cell_type": "code",
   "execution_count": 8,
   "id": "957f2542",
   "metadata": {
    "execution": {
     "iopub.execute_input": "2023-04-12T07:49:01.247050Z",
     "iopub.status.busy": "2023-04-12T07:49:01.246670Z",
     "iopub.status.idle": "2023-04-12T07:49:01.278560Z",
     "shell.execute_reply": "2023-04-12T07:49:01.276197Z"
    },
    "papermill": {
     "duration": 0.043349,
     "end_time": "2023-04-12T07:49:01.281873",
     "exception": false,
     "start_time": "2023-04-12T07:49:01.238524",
     "status": "completed"
    },
    "tags": []
   },
   "outputs": [
    {
     "name": "stdout",
     "output_type": "stream",
     "text": [
      "<class 'pandas.core.frame.DataFrame'>\n",
      "RangeIndex: 3509 entries, 0 to 3508\n",
      "Data columns (total 13 columns):\n",
      " #   Column              Non-Null Count  Dtype         \n",
      "---  ------              --------------  -----         \n",
      " 0   distance            3509 non-null   float64       \n",
      " 1   heart_rate          3501 non-null   float64       \n",
      " 2   timestamp           3509 non-null   datetime64[ns]\n",
      " 3   altitude            3508 non-null   float64       \n",
      " 4   cadence             3508 non-null   float64       \n",
      " 5   enhanced_altitude   3508 non-null   float64       \n",
      " 6   enhanced_speed      3508 non-null   float64       \n",
      " 7   fractional_cadence  3508 non-null   float64       \n",
      " 8   gps_accuracy        3508 non-null   float64       \n",
      " 9   position_lat        3508 non-null   float64       \n",
      " 10  position_long       3508 non-null   float64       \n",
      " 11  speed               3508 non-null   float64       \n",
      " 12  temperature         3508 non-null   float64       \n",
      "dtypes: datetime64[ns](1), float64(12)\n",
      "memory usage: 356.5 KB\n"
     ]
    }
   ],
   "source": [
    "df.info()"
   ]
  },
  {
   "cell_type": "code",
   "execution_count": 9,
   "id": "43aa8fc2",
   "metadata": {
    "execution": {
     "iopub.execute_input": "2023-04-12T07:49:01.295892Z",
     "iopub.status.busy": "2023-04-12T07:49:01.295436Z",
     "iopub.status.idle": "2023-04-12T07:49:01.301785Z",
     "shell.execute_reply": "2023-04-12T07:49:01.300604Z"
    },
    "papermill": {
     "duration": 0.016686,
     "end_time": "2023-04-12T07:49:01.304733",
     "exception": false,
     "start_time": "2023-04-12T07:49:01.288047",
     "status": "completed"
    },
    "tags": []
   },
   "outputs": [],
   "source": [
    "import matplotlib.pyplot as plt"
   ]
  },
  {
   "cell_type": "code",
   "execution_count": 10,
   "id": "5179cf15",
   "metadata": {
    "execution": {
     "iopub.execute_input": "2023-04-12T07:49:01.319014Z",
     "iopub.status.busy": "2023-04-12T07:49:01.318103Z",
     "iopub.status.idle": "2023-04-12T07:49:01.324871Z",
     "shell.execute_reply": "2023-04-12T07:49:01.323263Z"
    },
    "papermill": {
     "duration": 0.017561,
     "end_time": "2023-04-12T07:49:01.328164",
     "exception": false,
     "start_time": "2023-04-12T07:49:01.310603",
     "status": "completed"
    },
    "tags": []
   },
   "outputs": [],
   "source": [
    "# Making first plot for distance\n",
    "x = df['timestamp']\n",
    "y = df['heart_rate']\n",
    "y1 = df['speed']"
   ]
  },
  {
   "cell_type": "code",
   "execution_count": 11,
   "id": "7b82b215",
   "metadata": {
    "execution": {
     "iopub.execute_input": "2023-04-12T07:49:01.342097Z",
     "iopub.status.busy": "2023-04-12T07:49:01.341628Z",
     "iopub.status.idle": "2023-04-12T07:49:01.349679Z",
     "shell.execute_reply": "2023-04-12T07:49:01.348000Z"
    },
    "papermill": {
     "duration": 0.018393,
     "end_time": "2023-04-12T07:49:01.352608",
     "exception": false,
     "start_time": "2023-04-12T07:49:01.334215",
     "status": "completed"
    },
    "tags": []
   },
   "outputs": [],
   "source": [
    "# Find HR max value\n",
    "ymax = max(y)\n",
    "# find the x position of the ymax value\n",
    "xmax = x[y.argmax()]"
   ]
  },
  {
   "cell_type": "code",
   "execution_count": 12,
   "id": "4c8754ae",
   "metadata": {
    "execution": {
     "iopub.execute_input": "2023-04-12T07:49:01.367534Z",
     "iopub.status.busy": "2023-04-12T07:49:01.367065Z",
     "iopub.status.idle": "2023-04-12T07:49:01.373713Z",
     "shell.execute_reply": "2023-04-12T07:49:01.372417Z"
    },
    "papermill": {
     "duration": 0.016709,
     "end_time": "2023-04-12T07:49:01.376022",
     "exception": false,
     "start_time": "2023-04-12T07:49:01.359313",
     "status": "completed"
    },
    "tags": []
   },
   "outputs": [
    {
     "name": "stdout",
     "output_type": "stream",
     "text": [
      "190.0\n",
      "2022-07-16 21:23:42\n"
     ]
    }
   ],
   "source": [
    "print(ymax)\n",
    "print(xmax)"
   ]
  },
  {
   "cell_type": "code",
   "execution_count": 13,
   "id": "2f773d5e",
   "metadata": {
    "execution": {
     "iopub.execute_input": "2023-04-12T07:49:01.389551Z",
     "iopub.status.busy": "2023-04-12T07:49:01.389156Z",
     "iopub.status.idle": "2023-04-12T07:49:01.649073Z",
     "shell.execute_reply": "2023-04-12T07:49:01.647532Z"
    },
    "papermill": {
     "duration": 0.269775,
     "end_time": "2023-04-12T07:49:01.651684",
     "exception": false,
     "start_time": "2023-04-12T07:49:01.381909",
     "status": "completed"
    },
    "tags": []
   },
   "outputs": [
    {
     "data": {
      "image/png": "[encoded data removed]",
      "text/plain": [
       "<Figure size 640x480 with 2 Axes>"
      ]
     },
     "metadata": {},
     "output_type": "display_data"
    }
   ],
   "source": [
    "# break up the figure and axis definitions of a plot \n",
    "# so it is easier to assign values\n",
    "fig, ax = plt.subplots(2, 1, sharex=True)\n",
    "# create 2 subplots share x axis, in the next line we will remove \n",
    "# spaces between the horizontal axis, play with this value?\n",
    "fig.subplots_adjust(hspace=0)"
   ]
  },
  {
   "cell_type": "code",
   "execution_count": 14,
   "id": "4560e7dc",
   "metadata": {
    "execution": {
     "iopub.execute_input": "2023-04-12T07:49:01.666350Z",
     "iopub.status.busy": "2023-04-12T07:49:01.665188Z",
     "iopub.status.idle": "2023-04-12T07:49:01.679541Z",
     "shell.execute_reply": "2023-04-12T07:49:01.678544Z"
    },
    "papermill": {
     "duration": 0.024454,
     "end_time": "2023-04-12T07:49:01.682170",
     "exception": false,
     "start_time": "2023-04-12T07:49:01.657716",
     "status": "completed"
    },
    "tags": []
   },
   "outputs": [
    {
     "data": {
      "text/plain": [
       "<matplotlib.legend.Legend at 0x74ff06b300d0>"
      ]
     },
     "execution_count": 14,
     "metadata": {},
     "output_type": "execute_result"
    }
   ],
   "source": [
    "ax[0].plot(x, y,  label=('$\\dot heart_rate$'), c='r' )\n",
    "ax[0].spines[['right', 'top']].set_visible(False)\n",
    "#note all these set features could be added in one line but reading it would be difficult\n",
    "#ax.set(title = ('$\\dot VO_2$'), label=('$\\dot VO_2$ L/min'))  \n",
    "ax[0].set(ylabel=('bpm'))\n",
    "ax[0].legend()"
   ]
  },
  {
   "cell_type": "code",
   "execution_count": 15,
   "id": "8a2a2125",
   "metadata": {
    "execution": {
     "iopub.execute_input": "2023-04-12T07:49:01.698290Z",
     "iopub.status.busy": "2023-04-12T07:49:01.697108Z",
     "iopub.status.idle": "2023-04-12T07:49:01.711155Z",
     "shell.execute_reply": "2023-04-12T07:49:01.709455Z"
    },
    "papermill": {
     "duration": 0.025573,
     "end_time": "2023-04-12T07:49:01.714024",
     "exception": false,
     "start_time": "2023-04-12T07:49:01.688451",
     "status": "completed"
    },
    "tags": []
   },
   "outputs": [
    {
     "data": {
      "text/plain": [
       "<matplotlib.legend.Legend at 0x74ff06a50510>"
      ]
     },
     "execution_count": 15,
     "metadata": {},
     "output_type": "execute_result"
    }
   ],
   "source": [
    "# Second plot of values down from the top\n",
    "ax[1].plot(x, y1, label=('speed'), c='b')\n",
    "ax[1].spines[['top', 'right']].set_visible(False)\n",
    "ax[1].set(ylabel=('km/h'))\n",
    "ax[1].legend()"
   ]
  },
  {
   "cell_type": "code",
   "execution_count": 16,
   "id": "92e26cec",
   "metadata": {
    "execution": {
     "iopub.execute_input": "2023-04-12T07:49:01.729069Z",
     "iopub.status.busy": "2023-04-12T07:49:01.728587Z",
     "iopub.status.idle": "2023-04-12T07:49:02.234711Z",
     "shell.execute_reply": "2023-04-12T07:49:02.233541Z"
    },
    "papermill": {
     "duration": 0.516367,
     "end_time": "2023-04-12T07:49:02.236944",
     "exception": false,
     "start_time": "2023-04-12T07:49:01.720577",
     "status": "completed"
    },
    "tags": []
   },
   "outputs": [
    {
     "data": {
      "image/png": "[encoded data removed]",
      "text/plain": [
       "<Figure size 640x480 with 2 Axes>"
      ]
     },
     "metadata": {},
     "output_type": "display_data"
    }
   ],
   "source": [
    "# break up the figure and axis definitions of a plot \n",
    "# so it is easier to assign values\n",
    "fig, ax = plt.subplots(2,1, sharex=True)\n",
    "# create 2 subplots share x axis, in the next line we will remove \n",
    "# spaces between the horizontal axis, play with this value?\n",
    "fig.subplots_adjust(hspace=0)\n",
    "\n",
    "ax[0].plot(x, y,  label=('$\\dot heartrate$'), c='r' )\n",
    "ax[0].spines[['right', 'top']].set_visible(False)\n",
    "#note all these set features could be added in one line but reading it would be difficult\n",
    "#ax.set(title = ('$\\dot VO_2$'), label=('$\\dot VO_2$ L/min'))  \n",
    "ax[0].set(ylabel=('bpm'))\n",
    "ax[0].legend()\n",
    "\n",
    "# Second plot of values down from the top\n",
    "ax[1].plot(x, y1, label=('speed'), c='b')\n",
    "ax[1].spines[['top', 'right']].set_visible(False)\n",
    "ax[1].set(ylabel=('km/h'))\n",
    "ax[1].legend()\n",
    "fig.show()"
   ]
  },
  {
   "cell_type": "code",
   "execution_count": 17,
   "id": "0e5f7328",
   "metadata": {
    "execution": {
     "iopub.execute_input": "2023-04-12T07:49:02.253218Z",
     "iopub.status.busy": "2023-04-12T07:49:02.252757Z",
     "iopub.status.idle": "2023-04-12T07:49:03.448105Z",
     "shell.execute_reply": "2023-04-12T07:49:03.446572Z"
    },
    "papermill": {
     "duration": 1.206782,
     "end_time": "2023-04-12T07:49:03.450884",
     "exception": false,
     "start_time": "2023-04-12T07:49:02.244102",
     "status": "completed"
    },
    "tags": []
   },
   "outputs": [
    {
     "data": {
      "image/png": "[encoded data removed]",
      "text/plain": [
       "<Figure size 640x480 with 1 Axes>"
      ]
     },
     "metadata": {},
     "output_type": "display_data"
    }
   ],
   "source": [
    "import pandas as pd\n",
    "import matplotlib.pyplot as plt\n",
    "from fitparse import FitFile\n",
    "\n",
    "# Load the fit file into a FitFile object\n",
    "fitfile = FitFile('/kaggle/input/running-analysis/2022-07-16-142643-Running-Abbys AppleWatch.fit')\n",
    "\n",
    "# Extracting heart rate data from the fit file\n",
    "hr_data = []\n",
    "for record in fitfile.get_messages('record'):\n",
    "    hr = record.get_value('heart_rate')\n",
    "    if hr:\n",
    "        hr_data.append(hr)\n",
    "\n",
    "# Calculate heart rate zones\n",
    "zone1 = 0.6 * max(hr_data)\n",
    "zone2 = 0.7 * max(hr_data)\n",
    "zone3 = 0.8 * max(hr_data)\n",
    "zone4 = 0.9 * max(hr_data)\n",
    "zone5 = max(hr_data)\n",
    "\n",
    "# Plot heart rate histogram\n",
    "fig, ax = plt.subplots()\n",
    "ax.hist(hr_data, bins=20)\n",
    "\n",
    "# Add heart rate zones to the plot\n",
    "ax.axvspan(0, zone1, alpha=0.3, color='green')\n",
    "ax.axvspan(zone1, zone2, alpha=0.3, color='yellow')\n",
    "ax.axvspan(zone2, zone3, alpha=0.3, color='orange')\n",
    "ax.axvspan(zone3, zone4, alpha=0.3, color='red')\n",
    "ax.axvspan(zone4, zone5, alpha=0.3, color='purple')\n",
    "\n",
    "# Set axis labels and title\n",
    "ax.set_xlabel('Heart Rate (bpm)')\n",
    "ax.set_ylabel('Frequency')\n",
    "ax.set_title('Heart Rate Zone Analysis')\n",
    "\n",
    "# Show the plot\n",
    "plt.show()\n"
   ]
  }
 ],
 "metadata": {
  "kernelspec": {
   "display_name": "Python 3",
   "language": "python",
   "name": "python3"
  },
  "language_info": {
   "codemirror_mode": {
    "name": "ipython",
    "version": 3
   },
   "file_extension": ".py",
   "mimetype": "text/x-python",
   "name": "python",
   "nbconvert_exporter": "python",
   "pygments_lexer": "ipython3",
   "version": "3.7.12"
  },
  "papermill": {
   "default_parameters": {},
   "duration": 28.399013,
   "end_time": "2023-04-12T07:49:04.383560",
   "environment_variables": {},
   "exception": null,
   "input_path": "__notebook__.ipynb",
   "output_path": "__notebook__.ipynb",
   "parameters": {},
   "start_time": "2023-04-12T07:48:35.984547",
   "version": "2.4.0"
  }
 },
 "nbformat": 4,
 "nbformat_minor": 5
}
